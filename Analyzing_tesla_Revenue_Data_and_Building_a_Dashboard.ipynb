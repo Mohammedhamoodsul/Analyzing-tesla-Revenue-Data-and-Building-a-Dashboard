{
  "nbformat": 4,
  "nbformat_minor": 0,
  "metadata": {
    "colab": {
      "provenance": [],
      "authorship_tag": "ABX9TyNjsZOvmhHbBkOjGI3Hze/L",
      "include_colab_link": true
    },
    "kernelspec": {
      "name": "python3",
      "display_name": "Python 3"
    },
    "language_info": {
      "name": "python"
    }
  },
  "cells": [
    {
      "cell_type": "markdown",
      "metadata": {
        "id": "view-in-github",
        "colab_type": "text"
      },
      "source": [
        "<a href=\"https://colab.research.google.com/github/Mohammedhamoodsul/Analyzing-tesla-Revenue-Data-and-Building-a-Dashboard/blob/main/Analyzing_tesla_Revenue_Data_and_Building_a_Dashboard.ipynb\" target=\"_parent\"><img src=\"https://colab.research.google.com/assets/colab-badge.svg\" alt=\"Open In Colab\"/></a>"
      ]
    },
    {
      "cell_type": "markdown",
      "source": [
        "Question 1 - Extracting Tesla Stock Data Using **yfinance** bold text"
      ],
      "metadata": {
        "id": "S6WA8e8j4YoC"
      }
    },
    {
      "cell_type": "code",
      "execution_count": null,
      "metadata": {
        "colab": {
          "base_uri": "https://localhost:8080/"
        },
        "id": "Pfkkcni2sm63",
        "outputId": "a8026347-a6fd-498f-9935-ec275af0c238"
      },
      "outputs": [
        {
          "output_type": "stream",
          "name": "stdout",
          "text": [
            "Requirement already satisfied: yfinance in /usr/local/lib/python3.10/dist-packages (0.2.43)\n",
            "Requirement already satisfied: pandas>=1.3.0 in /usr/local/lib/python3.10/dist-packages (from yfinance) (2.1.4)\n",
            "Requirement already satisfied: numpy>=1.16.5 in /usr/local/lib/python3.10/dist-packages (from yfinance) (1.26.4)\n",
            "Requirement already satisfied: requests>=2.31 in /usr/local/lib/python3.10/dist-packages (from yfinance) (2.32.3)\n",
            "Requirement already satisfied: multitasking>=0.0.7 in /usr/local/lib/python3.10/dist-packages (from yfinance) (0.0.11)\n",
            "Requirement already satisfied: lxml>=4.9.1 in /usr/local/lib/python3.10/dist-packages (from yfinance) (4.9.4)\n",
            "Requirement already satisfied: platformdirs>=2.0.0 in /usr/local/lib/python3.10/dist-packages (from yfinance) (4.3.6)\n",
            "Requirement already satisfied: pytz>=2022.5 in /usr/local/lib/python3.10/dist-packages (from yfinance) (2024.2)\n",
            "Requirement already satisfied: frozendict>=2.3.4 in /usr/local/lib/python3.10/dist-packages (from yfinance) (2.4.4)\n",
            "Requirement already satisfied: peewee>=3.16.2 in /usr/local/lib/python3.10/dist-packages (from yfinance) (3.17.6)\n",
            "Requirement already satisfied: beautifulsoup4>=4.11.1 in /usr/local/lib/python3.10/dist-packages (from yfinance) (4.12.3)\n",
            "Requirement already satisfied: html5lib>=1.1 in /usr/local/lib/python3.10/dist-packages (from yfinance) (1.1)\n",
            "Requirement already satisfied: soupsieve>1.2 in /usr/local/lib/python3.10/dist-packages (from beautifulsoup4>=4.11.1->yfinance) (2.6)\n",
            "Requirement already satisfied: six>=1.9 in /usr/local/lib/python3.10/dist-packages (from html5lib>=1.1->yfinance) (1.16.0)\n",
            "Requirement already satisfied: webencodings in /usr/local/lib/python3.10/dist-packages (from html5lib>=1.1->yfinance) (0.5.1)\n",
            "Requirement already satisfied: python-dateutil>=2.8.2 in /usr/local/lib/python3.10/dist-packages (from pandas>=1.3.0->yfinance) (2.8.2)\n",
            "Requirement already satisfied: tzdata>=2022.1 in /usr/local/lib/python3.10/dist-packages (from pandas>=1.3.0->yfinance) (2024.1)\n",
            "Requirement already satisfied: charset-normalizer<4,>=2 in /usr/local/lib/python3.10/dist-packages (from requests>=2.31->yfinance) (3.3.2)\n",
            "Requirement already satisfied: idna<4,>=2.5 in /usr/local/lib/python3.10/dist-packages (from requests>=2.31->yfinance) (3.10)\n",
            "Requirement already satisfied: urllib3<3,>=1.21.1 in /usr/local/lib/python3.10/dist-packages (from requests>=2.31->yfinance) (2.2.3)\n",
            "Requirement already satisfied: certifi>=2017.4.17 in /usr/local/lib/python3.10/dist-packages (from requests>=2.31->yfinance) (2024.8.30)\n",
            "                                 Open        High         Low       Close  \\\n",
            "Date                                                                        \n",
            "2023-09-28 00:00:00-04:00  240.020004  247.550003  238.649994  246.380005   \n",
            "2023-09-29 00:00:00-04:00  250.000000  254.770004  246.350006  250.220001   \n",
            "2023-10-02 00:00:00-04:00  244.809998  254.279999  242.619995  251.600006   \n",
            "2023-10-03 00:00:00-04:00  248.610001  250.020004  244.449997  246.529999   \n",
            "2023-10-04 00:00:00-04:00  248.139999  261.859985  247.600006  261.160004   \n",
            "...                               ...         ...         ...         ...   \n",
            "2024-09-23 00:00:00-04:00  242.610001  250.000000  241.919998  250.000000   \n",
            "2024-09-24 00:00:00-04:00  254.080002  257.190002  249.050003  254.270004   \n",
            "2024-09-25 00:00:00-04:00  252.539993  257.049988  252.279999  257.019989   \n",
            "2024-09-26 00:00:00-04:00  260.600006  261.750000  251.529999  254.220001   \n",
            "2024-09-27 00:00:00-04:00  257.380005  260.700012  254.119995  260.459991   \n",
            "\n",
            "                              Volume  Dividends  Stock Splits  \n",
            "Date                                                           \n",
            "2023-09-28 00:00:00-04:00  117058900        0.0           0.0  \n",
            "2023-09-29 00:00:00-04:00  128346200        0.0           0.0  \n",
            "2023-10-02 00:00:00-04:00  123810400        0.0           0.0  \n",
            "2023-10-03 00:00:00-04:00  101985300        0.0           0.0  \n",
            "2023-10-04 00:00:00-04:00  129721600        0.0           0.0  \n",
            "...                              ...        ...           ...  \n",
            "2024-09-23 00:00:00-04:00   86927200        0.0           0.0  \n",
            "2024-09-24 00:00:00-04:00   88491000        0.0           0.0  \n",
            "2024-09-25 00:00:00-04:00   65034300        0.0           0.0  \n",
            "2024-09-26 00:00:00-04:00   67142200        0.0           0.0  \n",
            "2024-09-27 00:00:00-04:00   70729000        0.0           0.0  \n",
            "\n",
            "[252 rows x 7 columns]\n"
          ]
        }
      ],
      "source": [
        "# prompt:  Extracting Tesla Stock Data Using yfinance\n",
        "\n",
        "!pip install yfinance\n",
        "\n",
        "import yfinance as yf\n",
        "import pandas as pd\n",
        "\n",
        "# Define the ticker symbol for Tesla\n",
        "tickerSymbol = 'TSLA'\n",
        "\n",
        "# Get data on this ticker\n",
        "tickerData = yf.Ticker(tickerSymbol)\n",
        "\n",
        "# Get the historical prices for this ticker\n",
        "tesla_data = tickerData.history(period='1y')\n",
        "\n",
        "# Print the data\n",
        "print(tesla_data)\n"
      ]
    },
    {
      "cell_type": "markdown",
      "source": [
        "Question 2 - Extracting Tesla Revenue Data Using Webscraping"
      ],
      "metadata": {
        "id": "6p1bZeES4iqA"
      }
    },
    {
      "cell_type": "code",
      "source": [
        "# prompt: Extracting Tesla Revenue Data Using Webscraping\n",
        "\n",
        "import pandas as pd\n",
        "!pip install requests beautifulsoup4\n",
        "\n",
        "import requests\n",
        "from bs4 import BeautifulSoup\n",
        "\n",
        "url = 'https://www.macrotrends.net/stocks/charts/TSLA/tesla/revenue'\n",
        "headers = {'User-Agent': 'Mozilla/5.0 (Windows NT 10.0; Win64; x64) AppleWebKit/537.36 (KHTML, like Gecko) Chrome/91.0.4472.124 Safari/537.36'}\n",
        "response = requests.get(url, headers=headers)\n",
        "\n",
        "soup = BeautifulSoup(response.text, 'html.parser')\n",
        "table = soup.find_all('table')[1]\n",
        "df = pd.read_html(str(table))[0]\n",
        "df.columns = ['Date', 'Tesla Revenue']\n",
        "print(df)\n"
      ],
      "metadata": {
        "colab": {
          "base_uri": "https://localhost:8080/"
        },
        "id": "obYRe4zotBIP",
        "outputId": "9b2f59b3-3495-4f34-bb7b-ee6738697fc0"
      },
      "execution_count": null,
      "outputs": [
        {
          "output_type": "stream",
          "name": "stdout",
          "text": [
            "Requirement already satisfied: requests in /usr/local/lib/python3.10/dist-packages (2.32.3)\n",
            "Requirement already satisfied: beautifulsoup4 in /usr/local/lib/python3.10/dist-packages (4.12.3)\n",
            "Requirement already satisfied: charset-normalizer<4,>=2 in /usr/local/lib/python3.10/dist-packages (from requests) (3.3.2)\n",
            "Requirement already satisfied: idna<4,>=2.5 in /usr/local/lib/python3.10/dist-packages (from requests) (3.10)\n",
            "Requirement already satisfied: urllib3<3,>=1.21.1 in /usr/local/lib/python3.10/dist-packages (from requests) (2.2.3)\n",
            "Requirement already satisfied: certifi>=2017.4.17 in /usr/local/lib/python3.10/dist-packages (from requests) (2024.8.30)\n",
            "Requirement already satisfied: soupsieve>1.2 in /usr/local/lib/python3.10/dist-packages (from beautifulsoup4) (2.6)\n",
            "          Date Tesla Revenue\n",
            "0   2024-06-30       $25,500\n",
            "1   2024-03-31       $21,301\n",
            "2   2023-12-31       $25,167\n",
            "3   2023-09-30       $23,350\n",
            "4   2023-06-30       $24,927\n",
            "..         ...           ...\n",
            "56  2010-06-30           $28\n",
            "57  2010-03-31           $21\n",
            "58  2009-12-31           NaN\n",
            "59  2009-09-30           $46\n",
            "60  2009-06-30           $27\n",
            "\n",
            "[61 rows x 2 columns]\n"
          ]
        },
        {
          "output_type": "stream",
          "name": "stderr",
          "text": [
            "<ipython-input-2-80ea928d3d4c>:15: FutureWarning: Passing literal html to 'read_html' is deprecated and will be removed in a future version. To read from a literal string, wrap it in a 'StringIO' object.\n",
            "  df = pd.read_html(str(table))[0]\n"
          ]
        }
      ]
    },
    {
      "cell_type": "markdown",
      "source": [
        "Question 3 - Extracting GameStop Stock Data Using yfinance"
      ],
      "metadata": {
        "id": "B4k1OmSQ4off"
      }
    },
    {
      "cell_type": "code",
      "source": [
        "# prompt: Extracting GameStop Stock Data Using yfinance\n",
        "\n",
        "import yfinance as yf\n",
        "import pandas as pd\n",
        "\n",
        "# Define the ticker symbol for GameStop\n",
        "tickerSymbol = 'GME'\n",
        "\n",
        "# Get data on this ticker\n",
        "tickerData = yf.Ticker(tickerSymbol)\n",
        "\n",
        "# Get the historical prices for this ticker\n",
        "gme_data = tickerData.history(period='1y')\n",
        "\n",
        "# Print the data\n",
        "print(gme_data)\n"
      ],
      "metadata": {
        "colab": {
          "base_uri": "https://localhost:8080/"
        },
        "id": "Rj4rqXowtJCg",
        "outputId": "c41178e4-675f-4111-d446-107d1df827e5"
      },
      "execution_count": null,
      "outputs": [
        {
          "output_type": "stream",
          "name": "stdout",
          "text": [
            "                                Open       High        Low      Close  \\\n",
            "Date                                                                    \n",
            "2023-09-28 00:00:00-04:00  18.020000  18.100000  16.440001  16.840000   \n",
            "2023-09-29 00:00:00-04:00  17.049999  17.260000  16.400000  16.459999   \n",
            "2023-10-02 00:00:00-04:00  16.299999  16.309999  15.260000  15.390000   \n",
            "2023-10-03 00:00:00-04:00  15.290000  15.290000  14.570000  14.600000   \n",
            "2023-10-04 00:00:00-04:00  14.770000  14.940000  14.440000  14.870000   \n",
            "...                              ...        ...        ...        ...   \n",
            "2024-09-23 00:00:00-04:00  21.540001  22.559999  21.230000  22.309999   \n",
            "2024-09-24 00:00:00-04:00  22.610001  22.719999  21.540001  22.629999   \n",
            "2024-09-25 00:00:00-04:00  22.160000  22.830000  22.070000  22.180000   \n",
            "2024-09-26 00:00:00-04:00  22.400000  22.639999  21.870001  22.290001   \n",
            "2024-09-27 00:00:00-04:00  22.389999  23.100000  21.969999  22.480000   \n",
            "\n",
            "                             Volume  Dividends  Stock Splits  \n",
            "Date                                                          \n",
            "2023-09-28 00:00:00-04:00   7431900        0.0           0.0  \n",
            "2023-09-29 00:00:00-04:00   3388600        0.0           0.0  \n",
            "2023-10-02 00:00:00-04:00   6087700        0.0           0.0  \n",
            "2023-10-03 00:00:00-04:00   4510300        0.0           0.0  \n",
            "2023-10-04 00:00:00-04:00   2586400        0.0           0.0  \n",
            "...                             ...        ...           ...  \n",
            "2024-09-23 00:00:00-04:00  13969500        0.0           0.0  \n",
            "2024-09-24 00:00:00-04:00  12121400        0.0           0.0  \n",
            "2024-09-25 00:00:00-04:00   6139700        0.0           0.0  \n",
            "2024-09-26 00:00:00-04:00   5777500        0.0           0.0  \n",
            "2024-09-27 00:00:00-04:00   7380600        0.0           0.0  \n",
            "\n",
            "[252 rows x 7 columns]\n"
          ]
        }
      ]
    },
    {
      "cell_type": "markdown",
      "source": [
        "Question 4 - Extracting GameStop Revenue Data Using Webscraping"
      ],
      "metadata": {
        "id": "tc6bvNO96crA"
      }
    },
    {
      "cell_type": "code",
      "source": [
        "# prompt: Question 4 - Extracting GameStop Revenue Data Using Webscraping\n",
        "\n",
        "import pandas as pd\n",
        "#--- get the GameStop revenue data ---\n",
        "url = 'https://www.macrotrends.net/stocks/charts/GME/gamestop/revenue'\n",
        "headers = {'User-Agent': 'Mozilla/5.0 (Windows NT 10.0; Win64; x64) AppleWebKit/537.36 (KHTML, like Gecko) Chrome/91.0.4472.124 Safari/537.36'}\n",
        "response = requests.get(url, headers=headers)\n",
        "\n",
        "soup = BeautifulSoup(response.text, 'html.parser')\n",
        "table = soup.find_all('table')[1]\n",
        "gamestop_revenue_data = pd.read_html(str(table))[0] # assign the data to gamestop_revenue_data\n",
        "gamestop_revenue_data.columns = ['Date', 'GameStop Revenue']\n",
        "\n",
        "\n",
        "# Convert GameStop revenue data to DataFrame\n",
        "df_gamestop_revenue = pd.DataFrame(gamestop_revenue_data)\n",
        "\n",
        "print(df_gamestop_revenue)\n"
      ],
      "metadata": {
        "colab": {
          "base_uri": "https://localhost:8080/"
        },
        "id": "c-rLHuuY5ySa",
        "outputId": "9731f109-aa3c-4eff-b524-f6fb382165ea"
      },
      "execution_count": 29,
      "outputs": [
        {
          "output_type": "stream",
          "name": "stdout",
          "text": [
            "          Date GameStop Revenue\n",
            "0   2024-07-31             $798\n",
            "1   2024-04-30             $882\n",
            "2   2024-01-31           $1,794\n",
            "3   2023-10-31           $1,078\n",
            "4   2023-07-31           $1,164\n",
            "..         ...              ...\n",
            "58  2010-01-31           $3,524\n",
            "59  2009-10-31           $1,835\n",
            "60  2009-07-31           $1,739\n",
            "61  2009-04-30           $1,981\n",
            "62  2009-01-31           $3,492\n",
            "\n",
            "[63 rows x 2 columns]\n"
          ]
        },
        {
          "output_type": "stream",
          "name": "stderr",
          "text": [
            "<ipython-input-29-38a81e422041>:11: FutureWarning:\n",
            "\n",
            "Passing literal html to 'read_html' is deprecated and will be removed in a future version. To read from a literal string, wrap it in a 'StringIO' object.\n",
            "\n"
          ]
        }
      ]
    },
    {
      "cell_type": "markdown",
      "source": [
        "Question 5 - Tesla Stock and Revenue Dashboard\n",
        "\n"
      ],
      "metadata": {
        "id": "NaTSsLmr4uo2"
      }
    },
    {
      "source": [
        "import plotly.graph_objects as go\n",
        "from plotly.subplots import make_subplots\n",
        "import pandas as pd\n",
        "import requests\n",
        "from bs4 import BeautifulSoup\n",
        "\n",
        "#--- get the Tesla revenue data ---\n",
        "url = 'https://www.macrotrends.net/stocks/charts/TSLA/tesla/revenue'\n",
        "headers = {'User-Agent': 'Mozilla/5.0 (Windows NT 10.0; Win64; x64) AppleWebKit/537.36 (KHTML, like Gecko) Chrome/91.0.4472.124 Safari/537.36'}\n",
        "response = requests.get(url, headers=headers)\n",
        "\n",
        "soup = BeautifulSoup(response.text, 'html.parser')\n",
        "table = soup.find_all('table')[1]\n",
        "tesla_revenue_data = pd.read_html(str(table))[0] # assign the data to tesla_revenue_data\n",
        "tesla_revenue_data.columns = ['Date', 'Tesla Revenue']\n",
        "\n",
        "\n",
        "# Convert Tesla revenue data to DataFrame\n",
        "df_tesla_revenue = pd.DataFrame(tesla_revenue_data)\n",
        "\n",
        "# --- get the tesla stock data ---\n",
        "import yfinance as yf\n",
        "# Define the ticker symbol for Tesla\n",
        "tickerSymbol = 'TSLA'\n",
        "\n",
        "# Get data on this ticker\n",
        "tickerData = yf.Ticker(tickerSymbol)\n",
        "\n",
        "# Get the historical prices for this ticker\n",
        "tesla_stock_data = tickerData.history(period='1y')\n",
        "\n",
        "# Create subplots for Tesla\n",
        "fig_tesla = make_subplots(rows=2, cols=1, shared_xaxes=True, vertical_spacing=0.1,\n",
        "                          subplot_titles=(\"Tesla Stock Price\", \"Tesla Revenue\"))\n",
        "\n",
        "# Add Tesla stock price chart\n",
        "fig_tesla.add_trace(\n",
        "    go.Scatter(x=tesla_stock_data.index, y=tesla_stock_data['Close'], name=\"Tesla Stock Price\"),\n",
        "    row=1, col=1\n",
        ")\n",
        "\n",
        "# Add Tesla revenue chart\n",
        "fig_tesla.add_trace(\n",
        "    go.Scatter(x=df_tesla_revenue['Date'], y=df_tesla_revenue['Tesla Revenue'], name=\"Tesla Revenue\"), #use Tesla Revenue column\n",
        "    row=2, col=1\n",
        ")\n",
        "\n",
        "# Customize layout for Tesla dashboard\n",
        "fig_tesla.update_layout(\n",
        "    title=\"Tesla Stock and Revenue Dashboard\",\n",
        "    xaxis_title=\"Date\",\n",
        "    yaxis_title=\"Stock Price\",\n",
        "    height=800,\n",
        ")\n",
        "\n",
        "# Update y-axis title for the second subplot\n",
        "fig_tesla.update_yaxes(title_text=\"Revenue\", row=2, col=1)\n",
        "\n",
        "# Show Tesla dashboard\n",
        "fig_tesla.show()"
      ],
      "cell_type": "code",
      "metadata": {
        "colab": {
          "base_uri": "https://localhost:8080/",
          "height": 906
        },
        "id": "vrxjPCIVwPGP",
        "outputId": "59394814-dd4a-4751-e8b0-33c30f1b324a"
      },
      "execution_count": null,
      "outputs": [
        {
          "output_type": "stream",
          "name": "stderr",
          "text": [
            "<ipython-input-23-b4c0578682c4>:14: FutureWarning:\n",
            "\n",
            "Passing literal html to 'read_html' is deprecated and will be removed in a future version. To read from a literal string, wrap it in a 'StringIO' object.\n",
            "\n"
          ]
        },
        {
          "output_type": "display_data",
          "data": {
            "text/html": [
              "<html>\n",
              "<head><meta charset=\"utf-8\" /></head>\n",
              "<body>\n",
              "    <div>            <script src=\"https://cdnjs.cloudflare.com/ajax/libs/mathjax/2.7.5/MathJax.js?config=TeX-AMS-MML_SVG\"></script><script type=\"text/javascript\">if (window.MathJax && window.MathJax.Hub && window.MathJax.Hub.Config) {window.MathJax.Hub.Config({SVG: {font: \"STIX-Web\"}});}</script>                <script type=\"text/javascript\">window.PlotlyConfig = {MathJaxConfig: 'local'};</script>\n",
              "        <script charset=\"utf-8\" src=\"https://cdn.plot.ly/plotly-2.35.2.min.js\"></script>                <div id=\"f834e98d-9bbd-4262-a40c-8c10f77c86c6\" class=\"plotly-graph-div\" style=\"height:800px; width:100%;\"></div>            <script type=\"text/javascript\">                                    window.PLOTLYENV=window.PLOTLYENV || {};                                    if (document.getElementById(\"f834e98d-9bbd-4262-a40c-8c10f77c86c6\")) {                    Plotly.newPlot(                        \"f834e98d-9bbd-4262-a40c-8c10f77c86c6\",                        [{\"name\":\"Tesla Stock Price\",\"x\":[\"2023-09-28T00:00:00-04:00\",\"2023-09-29T00:00:00-04:00\",\"2023-10-02T00:00:00-04:00\",\"2023-10-03T00:00:00-04:00\",\"2023-10-04T00:00:00-04:00\",\"2023-10-05T00:00:00-04:00\",\"2023-10-06T00:00:00-04:00\",\"2023-10-09T00:00:00-04:00\",\"2023-10-10T00:00:00-04:00\",\"2023-10-11T00:00:00-04:00\",\"2023-10-12T00:00:00-04:00\",\"2023-10-13T00:00:00-04:00\",\"2023-10-16T00:00:00-04:00\",\"2023-10-17T00:00:00-04:00\",\"2023-10-18T00:00:00-04:00\",\"2023-10-19T00:00:00-04:00\",\"2023-10-20T00:00:00-04:00\",\"2023-10-23T00:00:00-04:00\",\"2023-10-24T00:00:00-04:00\",\"2023-10-25T00:00:00-04:00\",\"2023-10-26T00:00:00-04:00\",\"2023-10-27T00:00:00-04:00\",\"2023-10-30T00:00:00-04:00\",\"2023-10-31T00:00:00-04:00\",\"2023-11-01T00:00:00-04:00\",\"2023-11-02T00:00:00-04:00\",\"2023-11-03T00:00:00-04:00\",\"2023-11-06T00:00:00-05:00\",\"2023-11-07T00:00:00-05:00\",\"2023-11-08T00:00:00-05:00\",\"2023-11-09T00:00:00-05:00\",\"2023-11-10T00:00:00-05:00\",\"2023-11-13T00:00:00-05:00\",\"2023-11-14T00:00:00-05:00\",\"2023-11-15T00:00:00-05:00\",\"2023-11-16T00:00:00-05:00\",\"2023-11-17T00:00:00-05:00\",\"2023-11-20T00:00:00-05:00\",\"2023-11-21T00:00:00-05:00\",\"2023-11-22T00:00:00-05:00\",\"2023-11-24T00:00:00-05:00\",\"2023-11-27T00:00:00-05:00\",\"2023-11-28T00:00:00-05:00\",\"2023-11-29T00:00:00-05:00\",\"2023-11-30T00:00:00-05:00\",\"2023-12-01T00:00:00-05:00\",\"2023-12-04T00:00:00-05:00\",\"2023-12-05T00:00:00-05:00\",\"2023-12-06T00:00:00-05:00\",\"2023-12-07T00:00:00-05:00\",\"2023-12-08T00:00:00-05:00\",\"2023-12-11T00:00:00-05:00\",\"2023-12-12T00:00:00-05:00\",\"2023-12-13T00:00:00-05:00\",\"2023-12-14T00:00:00-05:00\",\"2023-12-15T00:00:00-05:00\",\"2023-12-18T00:00:00-05:00\",\"2023-12-19T00:00:00-05:00\",\"2023-12-20T00:00:00-05:00\",\"2023-12-21T00:00:00-05:00\",\"2023-12-22T00:00:00-05:00\",\"2023-12-26T00:00:00-05:00\",\"2023-12-27T00:00:00-05:00\",\"2023-12-28T00:00:00-05:00\",\"2023-12-29T00:00:00-05:00\",\"2024-01-02T00:00:00-05:00\",\"2024-01-03T00:00:00-05:00\",\"2024-01-04T00:00:00-05:00\",\"2024-01-05T00:00:00-05:00\",\"2024-01-08T00:00:00-05:00\",\"2024-01-09T00:00:00-05:00\",\"2024-01-10T00:00:00-05:00\",\"2024-01-11T00:00:00-05:00\",\"2024-01-12T00:00:00-05:00\",\"2024-01-16T00:00:00-05:00\",\"2024-01-17T00:00:00-05:00\",\"2024-01-18T00:00:00-05:00\",\"2024-01-19T00:00:00-05:00\",\"2024-01-22T00:00:00-05:00\",\"2024-01-23T00:00:00-05:00\",\"2024-01-24T00:00:00-05:00\",\"2024-01-25T00:00:00-05:00\",\"2024-01-26T00:00:00-05:00\",\"2024-01-29T00:00:00-05:00\",\"2024-01-30T00:00:00-05:00\",\"2024-01-31T00:00:00-05:00\",\"2024-02-01T00:00:00-05:00\",\"2024-02-02T00:00:00-05:00\",\"2024-02-05T00:00:00-05:00\",\"2024-02-06T00:00:00-05:00\",\"2024-02-07T00:00:00-05:00\",\"2024-02-08T00:00:00-05:00\",\"2024-02-09T00:00:00-05:00\",\"2024-02-12T00:00:00-05:00\",\"2024-02-13T00:00:00-05:00\",\"2024-02-14T00:00:00-05:00\",\"2024-02-15T00:00:00-05:00\",\"2024-02-16T00:00:00-05:00\",\"2024-02-20T00:00:00-05:00\",\"2024-02-21T00:00:00-05:00\",\"2024-02-22T00:00:00-05:00\",\"2024-02-23T00:00:00-05:00\",\"2024-02-26T00:00:00-05:00\",\"2024-02-27T00:00:00-05:00\",\"2024-02-28T00:00:00-05:00\",\"2024-02-29T00:00:00-05:00\",\"2024-03-01T00:00:00-05:00\",\"2024-03-04T00:00:00-05:00\",\"2024-03-05T00:00:00-05:00\",\"2024-03-06T00:00:00-05:00\",\"2024-03-07T00:00:00-05:00\",\"2024-03-08T00:00:00-05:00\",\"2024-03-11T00:00:00-04:00\",\"2024-03-12T00:00:00-04:00\",\"2024-03-13T00:00:00-04:00\",\"2024-03-14T00:00:00-04:00\",\"2024-03-15T00:00:00-04:00\",\"2024-03-18T00:00:00-04:00\",\"2024-03-19T00:00:00-04:00\",\"2024-03-20T00:00:00-04:00\",\"2024-03-21T00:00:00-04:00\",\"2024-03-22T00:00:00-04:00\",\"2024-03-25T00:00:00-04:00\",\"2024-03-26T00:00:00-04:00\",\"2024-03-27T00:00:00-04:00\",\"2024-03-28T00:00:00-04:00\",\"2024-04-01T00:00:00-04:00\",\"2024-04-02T00:00:00-04:00\",\"2024-04-03T00:00:00-04:00\",\"2024-04-04T00:00:00-04:00\",\"2024-04-05T00:00:00-04:00\",\"2024-04-08T00:00:00-04:00\",\"2024-04-09T00:00:00-04:00\",\"2024-04-10T00:00:00-04:00\",\"2024-04-11T00:00:00-04:00\",\"2024-04-12T00:00:00-04:00\",\"2024-04-15T00:00:00-04:00\",\"2024-04-16T00:00:00-04:00\",\"2024-04-17T00:00:00-04:00\",\"2024-04-18T00:00:00-04:00\",\"2024-04-19T00:00:00-04:00\",\"2024-04-22T00:00:00-04:00\",\"2024-04-23T00:00:00-04:00\",\"2024-04-24T00:00:00-04:00\",\"2024-04-25T00:00:00-04:00\",\"2024-04-26T00:00:00-04:00\",\"2024-04-29T00:00:00-04:00\",\"2024-04-30T00:00:00-04:00\",\"2024-05-01T00:00:00-04:00\",\"2024-05-02T00:00:00-04:00\",\"2024-05-03T00:00:00-04:00\",\"2024-05-06T00:00:00-04:00\",\"2024-05-07T00:00:00-04:00\",\"2024-05-08T00:00:00-04:00\",\"2024-05-09T00:00:00-04:00\",\"2024-05-10T00:00:00-04:00\",\"2024-05-13T00:00:00-04:00\",\"2024-05-14T00:00:00-04:00\",\"2024-05-15T00:00:00-04:00\",\"2024-05-16T00:00:00-04:00\",\"2024-05-17T00:00:00-04:00\",\"2024-05-20T00:00:00-04:00\",\"2024-05-21T00:00:00-04:00\",\"2024-05-22T00:00:00-04:00\",\"2024-05-23T00:00:00-04:00\",\"2024-05-24T00:00:00-04:00\",\"2024-05-28T00:00:00-04:00\",\"2024-05-29T00:00:00-04:00\",\"2024-05-30T00:00:00-04:00\",\"2024-05-31T00:00:00-04:00\",\"2024-06-03T00:00:00-04:00\",\"2024-06-04T00:00:00-04:00\",\"2024-06-05T00:00:00-04:00\",\"2024-06-06T00:00:00-04:00\",\"2024-06-07T00:00:00-04:00\",\"2024-06-10T00:00:00-04:00\",\"2024-06-11T00:00:00-04:00\",\"2024-06-12T00:00:00-04:00\",\"2024-06-13T00:00:00-04:00\",\"2024-06-14T00:00:00-04:00\",\"2024-06-17T00:00:00-04:00\",\"2024-06-18T00:00:00-04:00\",\"2024-06-20T00:00:00-04:00\",\"2024-06-21T00:00:00-04:00\",\"2024-06-24T00:00:00-04:00\",\"2024-06-25T00:00:00-04:00\",\"2024-06-26T00:00:00-04:00\",\"2024-06-27T00:00:00-04:00\",\"2024-06-28T00:00:00-04:00\",\"2024-07-01T00:00:00-04:00\",\"2024-07-02T00:00:00-04:00\",\"2024-07-03T00:00:00-04:00\",\"2024-07-05T00:00:00-04:00\",\"2024-07-08T00:00:00-04:00\",\"2024-07-09T00:00:00-04:00\",\"2024-07-10T00:00:00-04:00\",\"2024-07-11T00:00:00-04:00\",\"2024-07-12T00:00:00-04:00\",\"2024-07-15T00:00:00-04:00\",\"2024-07-16T00:00:00-04:00\",\"2024-07-17T00:00:00-04:00\",\"2024-07-18T00:00:00-04:00\",\"2024-07-19T00:00:00-04:00\",\"2024-07-22T00:00:00-04:00\",\"2024-07-23T00:00:00-04:00\",\"2024-07-24T00:00:00-04:00\",\"2024-07-25T00:00:00-04:00\",\"2024-07-26T00:00:00-04:00\",\"2024-07-29T00:00:00-04:00\",\"2024-07-30T00:00:00-04:00\",\"2024-07-31T00:00:00-04:00\",\"2024-08-01T00:00:00-04:00\",\"2024-08-02T00:00:00-04:00\",\"2024-08-05T00:00:00-04:00\",\"2024-08-06T00:00:00-04:00\",\"2024-08-07T00:00:00-04:00\",\"2024-08-08T00:00:00-04:00\",\"2024-08-09T00:00:00-04:00\",\"2024-08-12T00:00:00-04:00\",\"2024-08-13T00:00:00-04:00\",\"2024-08-14T00:00:00-04:00\",\"2024-08-15T00:00:00-04:00\",\"2024-08-16T00:00:00-04:00\",\"2024-08-19T00:00:00-04:00\",\"2024-08-20T00:00:00-04:00\",\"2024-08-21T00:00:00-04:00\",\"2024-08-22T00:00:00-04:00\",\"2024-08-23T00:00:00-04:00\",\"2024-08-26T00:00:00-04:00\",\"2024-08-27T00:00:00-04:00\",\"2024-08-28T00:00:00-04:00\",\"2024-08-29T00:00:00-04:00\",\"2024-08-30T00:00:00-04:00\",\"2024-09-03T00:00:00-04:00\",\"2024-09-04T00:00:00-04:00\",\"2024-09-05T00:00:00-04:00\",\"2024-09-06T00:00:00-04:00\",\"2024-09-09T00:00:00-04:00\",\"2024-09-10T00:00:00-04:00\",\"2024-09-11T00:00:00-04:00\",\"2024-09-12T00:00:00-04:00\",\"2024-09-13T00:00:00-04:00\",\"2024-09-16T00:00:00-04:00\",\"2024-09-17T00:00:00-04:00\",\"2024-09-18T00:00:00-04:00\",\"2024-09-19T00:00:00-04:00\",\"2024-09-20T00:00:00-04:00\",\"2024-09-23T00:00:00-04:00\",\"2024-09-24T00:00:00-04:00\",\"2024-09-25T00:00:00-04:00\",\"2024-09-26T00:00:00-04:00\",\"2024-09-27T00:00:00-04:00\"],\"y\":[246.3800048828125,250.22000122070312,251.60000610351562,246.52999877929688,261.1600036621094,260.04998779296875,260.5299987792969,259.6700134277344,263.6199951171875,262.989990234375,258.8699951171875,251.1199951171875,253.9199981689453,254.85000610351562,242.67999267578125,220.11000061035156,211.99000549316406,212.0800018310547,216.52000427246094,212.4199981689453,205.75999450683594,207.3000030517578,197.36000061035156,200.83999633789062,205.66000366210938,218.50999450683594,219.9600067138672,219.27000427246094,222.17999267578125,222.11000061035156,209.97999572753906,214.64999389648438,223.7100067138672,237.41000366210938,242.83999633789062,233.58999633789062,234.3000030517578,235.60000610351562,241.1999969482422,234.2100067138672,235.4499969482422,236.0800018310547,246.72000122070312,244.13999938964844,240.0800018310547,238.8300018310547,235.5800018310547,238.72000122070312,239.3699951171875,242.63999938964844,243.83999633789062,239.74000549316406,237.00999450683594,239.2899932861328,251.0500030517578,253.5,252.0800018310547,257.2200012207031,247.13999938964844,254.5,252.5399932861328,256.6099853515625,261.44000244140625,253.17999267578125,248.47999572753906,248.4199981689453,238.4499969482422,237.92999267578125,237.49000549316406,240.4499969482422,234.9600067138672,233.94000244140625,227.22000122070312,218.88999938964844,219.91000366210938,215.5500030517578,211.8800048828125,212.19000244140625,208.8000030517578,209.13999938964844,207.8300018310547,182.6300048828125,183.25,190.92999267578125,191.58999633789062,187.2899932861328,188.86000061035156,187.91000366210938,181.05999755859375,185.10000610351562,187.5800018310547,189.55999755859375,193.57000732421875,188.1300048828125,184.02000427246094,188.7100067138672,200.4499969482422,199.9499969482422,193.75999450683594,194.77000427246094,197.41000366210938,191.97000122070312,199.39999389648438,199.72999572753906,202.0399932861328,201.8800048828125,202.63999938964844,188.13999938964844,180.74000549316406,176.5399932861328,178.64999389648438,175.33999633789062,177.77000427246094,177.5399932861328,169.47999572753906,162.5,163.57000732421875,173.8000030517578,171.32000732421875,175.66000366210938,172.82000732421875,170.8300018310547,172.6300048828125,177.6699981689453,179.8300018310547,175.7899932861328,175.22000122070312,166.6300048828125,168.3800048828125,171.11000061035156,164.89999389648438,172.97999572753906,176.8800048828125,171.75999450683594,174.60000610351562,171.0500030517578,161.47999572753906,157.11000061035156,155.4499969482422,149.92999267578125,147.0500030517578,142.0500030517578,144.67999267578125,162.1300048828125,170.17999267578125,168.2899932861328,194.0500030517578,183.27999877929688,179.99000549316406,180.00999450683594,181.19000244140625,184.75999450683594,177.80999755859375,174.72000122070312,171.97000122070312,168.47000122070312,171.88999938964844,177.5500030517578,173.99000549316406,174.83999633789062,177.4600067138672,174.9499969482422,186.60000610351562,180.11000061035156,173.74000549316406,179.24000549316406,176.75,176.19000244140625,178.7899932861328,178.0800018310547,176.2899932861328,174.77000427246094,175.0,177.94000244140625,177.47999572753906,173.7899932861328,170.66000366210938,177.2899932861328,182.47000122070312,178.00999450683594,187.44000244140625,184.86000061035156,181.57000732421875,183.00999450683594,182.5800018310547,187.35000610351562,196.3699951171875,197.4199981689453,197.8800048828125,209.86000061035156,231.25999450683594,246.38999938964844,251.52000427246094,252.94000244140625,262.3299865722656,263.260009765625,241.02999877929688,248.22999572753906,252.63999938964844,256.55999755859375,248.5,249.22999572753906,239.1999969482422,251.50999450683594,246.3800048828125,215.99000549316406,220.25,219.8000030517578,232.10000610351562,222.6199951171875,232.07000732421875,216.86000061035156,207.6699981689453,198.8800048828125,200.63999938964844,191.75999450683594,198.83999633789062,200.0,197.49000549316406,207.8300018310547,201.3800048828125,214.13999938964844,216.1199951171875,222.72000122070312,221.10000610351562,223.27000427246094,210.66000366210938,220.32000732421875,213.2100067138672,209.2100067138672,205.75,206.27999877929688,214.11000061035156,210.60000610351562,219.41000366210938,230.1699981689453,210.72999572753906,216.27000427246094,226.1699981689453,228.1300048828125,229.80999755859375,230.2899932861328,226.77999877929688,227.8699951171875,227.1999969482422,243.9199981689453,238.25,250.0,254.27000427246094,257.0199890136719,254.22000122070312,260.4599914550781],\"type\":\"scatter\",\"xaxis\":\"x\",\"yaxis\":\"y\"},{\"name\":\"Tesla Revenue\",\"x\":[\"2024-06-30\",\"2024-03-31\",\"2023-12-31\",\"2023-09-30\",\"2023-06-30\",\"2023-03-31\",\"2022-12-31\",\"2022-09-30\",\"2022-06-30\",\"2022-03-31\",\"2021-12-31\",\"2021-09-30\",\"2021-06-30\",\"2021-03-31\",\"2020-12-31\",\"2020-09-30\",\"2020-06-30\",\"2020-03-31\",\"2019-12-31\",\"2019-09-30\",\"2019-06-30\",\"2019-03-31\",\"2018-12-31\",\"2018-09-30\",\"2018-06-30\",\"2018-03-31\",\"2017-12-31\",\"2017-09-30\",\"2017-06-30\",\"2017-03-31\",\"2016-12-31\",\"2016-09-30\",\"2016-06-30\",\"2016-03-31\",\"2015-12-31\",\"2015-09-30\",\"2015-06-30\",\"2015-03-31\",\"2014-12-31\",\"2014-09-30\",\"2014-06-30\",\"2014-03-31\",\"2013-12-31\",\"2013-09-30\",\"2013-06-30\",\"2013-03-31\",\"2012-12-31\",\"2012-09-30\",\"2012-06-30\",\"2012-03-31\",\"2011-12-31\",\"2011-09-30\",\"2011-06-30\",\"2011-03-31\",\"2010-12-31\",\"2010-09-30\",\"2010-06-30\",\"2010-03-31\",\"2009-12-31\",\"2009-09-30\",\"2009-06-30\"],\"y\":[\"$25,500\",\"$21,301\",\"$25,167\",\"$23,350\",\"$24,927\",\"$23,329\",\"$24,318\",\"$21,454\",\"$16,934\",\"$18,756\",\"$17,719\",\"$13,757\",\"$11,958\",\"$10,389\",\"$10,744\",\"$8,771\",\"$6,036\",\"$5,985\",\"$7,384\",\"$6,303\",\"$6,350\",\"$4,541\",\"$7,226\",\"$6,824\",\"$4,002\",\"$3,409\",\"$3,288\",\"$2,985\",\"$2,790\",\"$2,696\",\"$2,285\",\"$2,298\",\"$1,270\",\"$1,147\",\"$1,214\",\"$937\",\"$955\",\"$940\",\"$957\",\"$852\",\"$769\",\"$621\",\"$615\",\"$431\",\"$405\",\"$562\",\"$306\",\"$50\",\"$27\",\"$30\",\"$39\",\"$58\",\"$58\",\"$49\",\"$36\",\"$31\",\"$28\",\"$21\",null,\"$46\",\"$27\"],\"type\":\"scatter\",\"xaxis\":\"x2\",\"yaxis\":\"y2\"}],                        {\"template\":{\"data\":{\"histogram2dcontour\":[{\"type\":\"histogram2dcontour\",\"colorbar\":{\"outlinewidth\":0,\"ticks\":\"\"},\"colorscale\":[[0.0,\"#0d0887\"],[0.1111111111111111,\"#46039f\"],[0.2222222222222222,\"#7201a8\"],[0.3333333333333333,\"#9c179e\"],[0.4444444444444444,\"#bd3786\"],[0.5555555555555556,\"#d8576b\"],[0.6666666666666666,\"#ed7953\"],[0.7777777777777778,\"#fb9f3a\"],[0.8888888888888888,\"#fdca26\"],[1.0,\"#f0f921\"]]}],\"choropleth\":[{\"type\":\"choropleth\",\"colorbar\":{\"outlinewidth\":0,\"ticks\":\"\"}}],\"histogram2d\":[{\"type\":\"histogram2d\",\"colorbar\":{\"outlinewidth\":0,\"ticks\":\"\"},\"colorscale\":[[0.0,\"#0d0887\"],[0.1111111111111111,\"#46039f\"],[0.2222222222222222,\"#7201a8\"],[0.3333333333333333,\"#9c179e\"],[0.4444444444444444,\"#bd3786\"],[0.5555555555555556,\"#d8576b\"],[0.6666666666666666,\"#ed7953\"],[0.7777777777777778,\"#fb9f3a\"],[0.8888888888888888,\"#fdca26\"],[1.0,\"#f0f921\"]]}],\"heatmap\":[{\"type\":\"heatmap\",\"colorbar\":{\"outlinewidth\":0,\"ticks\":\"\"},\"colorscale\":[[0.0,\"#0d0887\"],[0.1111111111111111,\"#46039f\"],[0.2222222222222222,\"#7201a8\"],[0.3333333333333333,\"#9c179e\"],[0.4444444444444444,\"#bd3786\"],[0.5555555555555556,\"#d8576b\"],[0.6666666666666666,\"#ed7953\"],[0.7777777777777778,\"#fb9f3a\"],[0.8888888888888888,\"#fdca26\"],[1.0,\"#f0f921\"]]}],\"heatmapgl\":[{\"type\":\"heatmapgl\",\"colorbar\":{\"outlinewidth\":0,\"ticks\":\"\"},\"colorscale\":[[0.0,\"#0d0887\"],[0.1111111111111111,\"#46039f\"],[0.2222222222222222,\"#7201a8\"],[0.3333333333333333,\"#9c179e\"],[0.4444444444444444,\"#bd3786\"],[0.5555555555555556,\"#d8576b\"],[0.6666666666666666,\"#ed7953\"],[0.7777777777777778,\"#fb9f3a\"],[0.8888888888888888,\"#fdca26\"],[1.0,\"#f0f921\"]]}],\"contourcarpet\":[{\"type\":\"contourcarpet\",\"colorbar\":{\"outlinewidth\":0,\"ticks\":\"\"}}],\"contour\":[{\"type\":\"contour\",\"colorbar\":{\"outlinewidth\":0,\"ticks\":\"\"},\"colorscale\":[[0.0,\"#0d0887\"],[0.1111111111111111,\"#46039f\"],[0.2222222222222222,\"#7201a8\"],[0.3333333333333333,\"#9c179e\"],[0.4444444444444444,\"#bd3786\"],[0.5555555555555556,\"#d8576b\"],[0.6666666666666666,\"#ed7953\"],[0.7777777777777778,\"#fb9f3a\"],[0.8888888888888888,\"#fdca26\"],[1.0,\"#f0f921\"]]}],\"surface\":[{\"type\":\"surface\",\"colorbar\":{\"outlinewidth\":0,\"ticks\":\"\"},\"colorscale\":[[0.0,\"#0d0887\"],[0.1111111111111111,\"#46039f\"],[0.2222222222222222,\"#7201a8\"],[0.3333333333333333,\"#9c179e\"],[0.4444444444444444,\"#bd3786\"],[0.5555555555555556,\"#d8576b\"],[0.6666666666666666,\"#ed7953\"],[0.7777777777777778,\"#fb9f3a\"],[0.8888888888888888,\"#fdca26\"],[1.0,\"#f0f921\"]]}],\"mesh3d\":[{\"type\":\"mesh3d\",\"colorbar\":{\"outlinewidth\":0,\"ticks\":\"\"}}],\"scatter\":[{\"fillpattern\":{\"fillmode\":\"overlay\",\"size\":10,\"solidity\":0.2},\"type\":\"scatter\"}],\"parcoords\":[{\"type\":\"parcoords\",\"line\":{\"colorbar\":{\"outlinewidth\":0,\"ticks\":\"\"}}}],\"scatterpolargl\":[{\"type\":\"scatterpolargl\",\"marker\":{\"colorbar\":{\"outlinewidth\":0,\"ticks\":\"\"}}}],\"bar\":[{\"error_x\":{\"color\":\"#2a3f5f\"},\"error_y\":{\"color\":\"#2a3f5f\"},\"marker\":{\"line\":{\"color\":\"#E5ECF6\",\"width\":0.5},\"pattern\":{\"fillmode\":\"overlay\",\"size\":10,\"solidity\":0.2}},\"type\":\"bar\"}],\"scattergeo\":[{\"type\":\"scattergeo\",\"marker\":{\"colorbar\":{\"outlinewidth\":0,\"ticks\":\"\"}}}],\"scatterpolar\":[{\"type\":\"scatterpolar\",\"marker\":{\"colorbar\":{\"outlinewidth\":0,\"ticks\":\"\"}}}],\"histogram\":[{\"marker\":{\"pattern\":{\"fillmode\":\"overlay\",\"size\":10,\"solidity\":0.2}},\"type\":\"histogram\"}],\"scattergl\":[{\"type\":\"scattergl\",\"marker\":{\"colorbar\":{\"outlinewidth\":0,\"ticks\":\"\"}}}],\"scatter3d\":[{\"type\":\"scatter3d\",\"line\":{\"colorbar\":{\"outlinewidth\":0,\"ticks\":\"\"}},\"marker\":{\"colorbar\":{\"outlinewidth\":0,\"ticks\":\"\"}}}],\"scattermapbox\":[{\"type\":\"scattermapbox\",\"marker\":{\"colorbar\":{\"outlinewidth\":0,\"ticks\":\"\"}}}],\"scatterternary\":[{\"type\":\"scatterternary\",\"marker\":{\"colorbar\":{\"outlinewidth\":0,\"ticks\":\"\"}}}],\"scattercarpet\":[{\"type\":\"scattercarpet\",\"marker\":{\"colorbar\":{\"outlinewidth\":0,\"ticks\":\"\"}}}],\"carpet\":[{\"aaxis\":{\"endlinecolor\":\"#2a3f5f\",\"gridcolor\":\"white\",\"linecolor\":\"white\",\"minorgridcolor\":\"white\",\"startlinecolor\":\"#2a3f5f\"},\"baxis\":{\"endlinecolor\":\"#2a3f5f\",\"gridcolor\":\"white\",\"linecolor\":\"white\",\"minorgridcolor\":\"white\",\"startlinecolor\":\"#2a3f5f\"},\"type\":\"carpet\"}],\"table\":[{\"cells\":{\"fill\":{\"color\":\"#EBF0F8\"},\"line\":{\"color\":\"white\"}},\"header\":{\"fill\":{\"color\":\"#C8D4E3\"},\"line\":{\"color\":\"white\"}},\"type\":\"table\"}],\"barpolar\":[{\"marker\":{\"line\":{\"color\":\"#E5ECF6\",\"width\":0.5},\"pattern\":{\"fillmode\":\"overlay\",\"size\":10,\"solidity\":0.2}},\"type\":\"barpolar\"}],\"pie\":[{\"automargin\":true,\"type\":\"pie\"}]},\"layout\":{\"autotypenumbers\":\"strict\",\"colorway\":[\"#636efa\",\"#EF553B\",\"#00cc96\",\"#ab63fa\",\"#FFA15A\",\"#19d3f3\",\"#FF6692\",\"#B6E880\",\"#FF97FF\",\"#FECB52\"],\"font\":{\"color\":\"#2a3f5f\"},\"hovermode\":\"closest\",\"hoverlabel\":{\"align\":\"left\"},\"paper_bgcolor\":\"white\",\"plot_bgcolor\":\"#E5ECF6\",\"polar\":{\"bgcolor\":\"#E5ECF6\",\"angularaxis\":{\"gridcolor\":\"white\",\"linecolor\":\"white\",\"ticks\":\"\"},\"radialaxis\":{\"gridcolor\":\"white\",\"linecolor\":\"white\",\"ticks\":\"\"}},\"ternary\":{\"bgcolor\":\"#E5ECF6\",\"aaxis\":{\"gridcolor\":\"white\",\"linecolor\":\"white\",\"ticks\":\"\"},\"baxis\":{\"gridcolor\":\"white\",\"linecolor\":\"white\",\"ticks\":\"\"},\"caxis\":{\"gridcolor\":\"white\",\"linecolor\":\"white\",\"ticks\":\"\"}},\"coloraxis\":{\"colorbar\":{\"outlinewidth\":0,\"ticks\":\"\"}},\"colorscale\":{\"sequential\":[[0.0,\"#0d0887\"],[0.1111111111111111,\"#46039f\"],[0.2222222222222222,\"#7201a8\"],[0.3333333333333333,\"#9c179e\"],[0.4444444444444444,\"#bd3786\"],[0.5555555555555556,\"#d8576b\"],[0.6666666666666666,\"#ed7953\"],[0.7777777777777778,\"#fb9f3a\"],[0.8888888888888888,\"#fdca26\"],[1.0,\"#f0f921\"]],\"sequentialminus\":[[0.0,\"#0d0887\"],[0.1111111111111111,\"#46039f\"],[0.2222222222222222,\"#7201a8\"],[0.3333333333333333,\"#9c179e\"],[0.4444444444444444,\"#bd3786\"],[0.5555555555555556,\"#d8576b\"],[0.6666666666666666,\"#ed7953\"],[0.7777777777777778,\"#fb9f3a\"],[0.8888888888888888,\"#fdca26\"],[1.0,\"#f0f921\"]],\"diverging\":[[0,\"#8e0152\"],[0.1,\"#c51b7d\"],[0.2,\"#de77ae\"],[0.3,\"#f1b6da\"],[0.4,\"#fde0ef\"],[0.5,\"#f7f7f7\"],[0.6,\"#e6f5d0\"],[0.7,\"#b8e186\"],[0.8,\"#7fbc41\"],[0.9,\"#4d9221\"],[1,\"#276419\"]]},\"xaxis\":{\"gridcolor\":\"white\",\"linecolor\":\"white\",\"ticks\":\"\",\"title\":{\"standoff\":15},\"zerolinecolor\":\"white\",\"automargin\":true,\"zerolinewidth\":2},\"yaxis\":{\"gridcolor\":\"white\",\"linecolor\":\"white\",\"ticks\":\"\",\"title\":{\"standoff\":15},\"zerolinecolor\":\"white\",\"automargin\":true,\"zerolinewidth\":2},\"scene\":{\"xaxis\":{\"backgroundcolor\":\"#E5ECF6\",\"gridcolor\":\"white\",\"linecolor\":\"white\",\"showbackground\":true,\"ticks\":\"\",\"zerolinecolor\":\"white\",\"gridwidth\":2},\"yaxis\":{\"backgroundcolor\":\"#E5ECF6\",\"gridcolor\":\"white\",\"linecolor\":\"white\",\"showbackground\":true,\"ticks\":\"\",\"zerolinecolor\":\"white\",\"gridwidth\":2},\"zaxis\":{\"backgroundcolor\":\"#E5ECF6\",\"gridcolor\":\"white\",\"linecolor\":\"white\",\"showbackground\":true,\"ticks\":\"\",\"zerolinecolor\":\"white\",\"gridwidth\":2}},\"shapedefaults\":{\"line\":{\"color\":\"#2a3f5f\"}},\"annotationdefaults\":{\"arrowcolor\":\"#2a3f5f\",\"arrowhead\":0,\"arrowwidth\":1},\"geo\":{\"bgcolor\":\"white\",\"landcolor\":\"#E5ECF6\",\"subunitcolor\":\"white\",\"showland\":true,\"showlakes\":true,\"lakecolor\":\"white\"},\"title\":{\"x\":0.05},\"mapbox\":{\"style\":\"light\"}}},\"xaxis\":{\"anchor\":\"y\",\"domain\":[0.0,1.0],\"matches\":\"x2\",\"showticklabels\":false,\"title\":{\"text\":\"Date\"}},\"yaxis\":{\"anchor\":\"x\",\"domain\":[0.55,1.0],\"title\":{\"text\":\"Stock Price\"}},\"xaxis2\":{\"anchor\":\"y2\",\"domain\":[0.0,1.0]},\"yaxis2\":{\"anchor\":\"x2\",\"domain\":[0.0,0.45],\"title\":{\"text\":\"Revenue\"}},\"annotations\":[{\"font\":{\"size\":16},\"showarrow\":false,\"text\":\"Tesla Stock Price\",\"x\":0.5,\"xanchor\":\"center\",\"xref\":\"paper\",\"y\":1.0,\"yanchor\":\"bottom\",\"yref\":\"paper\"},{\"font\":{\"size\":16},\"showarrow\":false,\"text\":\"Tesla Revenue\",\"x\":0.5,\"xanchor\":\"center\",\"xref\":\"paper\",\"y\":0.45,\"yanchor\":\"bottom\",\"yref\":\"paper\"}],\"title\":{\"text\":\"Tesla Stock and Revenue Dashboard\"},\"height\":800},                        {\"responsive\": true}                    ).then(function(){\n",
              "                            \n",
              "var gd = document.getElementById('f834e98d-9bbd-4262-a40c-8c10f77c86c6');\n",
              "var x = new MutationObserver(function (mutations, observer) {{\n",
              "        var display = window.getComputedStyle(gd).display;\n",
              "        if (!display || display === 'none') {{\n",
              "            console.log([gd, 'removed!']);\n",
              "            Plotly.purge(gd);\n",
              "            observer.disconnect();\n",
              "        }}\n",
              "}});\n",
              "\n",
              "// Listen for the removal of the full notebook cells\n",
              "var notebookContainer = gd.closest('#notebook-container');\n",
              "if (notebookContainer) {{\n",
              "    x.observe(notebookContainer, {childList: true});\n",
              "}}\n",
              "\n",
              "// Listen for the clearing of the current output cell\n",
              "var outputEl = gd.closest('.output');\n",
              "if (outputEl) {{\n",
              "    x.observe(outputEl, {childList: true});\n",
              "}}\n",
              "\n",
              "                        })                };                            </script>        </div>\n",
              "</body>\n",
              "</html>"
            ]
          },
          "metadata": {}
        }
      ]
    },
    {
      "cell_type": "markdown",
      "source": [
        "Question 6 - GameStop Stock and Revenue Dashboard"
      ],
      "metadata": {
        "id": "aPsMkOjc44-R"
      }
    },
    {
      "cell_type": "code",
      "source": [
        "# prompt: GameStop Stock and Revenue Dashboard\n",
        "\n",
        "import pandas as pd\n",
        "response = requests.get(url, headers=headers)\n",
        "\n",
        "soup = BeautifulSoup(response.text, 'html.parser')\n",
        "table = soup.find_all('table')[1]\n",
        "gamestop_revenue_data = pd.read_html(str(table))[0]\n",
        "gamestop_revenue_data.columns = ['Date', 'Revenue']\n",
        "\n",
        "\n",
        "\n",
        "# Convert GameStop revenue data to DataFrame\n",
        "df_gamestop_revenue = pd.DataFrame(gamestop_revenue_data)\n",
        "\n",
        "# --- get the gamestop stock data ---\n",
        "# Define the ticker symbol for GameStop\n",
        "tickerSymbol = 'GME'\n",
        "\n",
        "# Get data on this ticker\n",
        "tickerData = yf.Ticker(tickerSymbol)\n",
        "\n",
        "# Get the historical prices for this ticker\n",
        "gamestop_stock_data = tickerData.history(period='1y')\n",
        "\n",
        "\n",
        "# Create subplots for GameStop\n",
        "fig_gamestop = make_subplots(rows=2, cols=1, shared_xaxes=True, vertical_spacing=0.1,\n",
        "                             subplot_titles=(\"GameStop Stock Price\", \"GameStop Revenue\"))\n",
        "\n",
        "# Add GameStop stock price chart\n",
        "fig_gamestop.add_trace(\n",
        "    go.Scatter(x=gamestop_stock_data.index, y=gamestop_stock_data['Close'], name=\"GameStop Stock Price\"),\n",
        "    row=1, col=1\n",
        ")\n",
        "\n",
        "# Add GameStop revenue chart\n",
        "fig_gamestop.add_trace(\n",
        "    go.Scatter(x=df_gamestop_revenue['Date'], y=df_gamestop_revenue['Revenue'], name=\"GameStop Revenue\"),\n",
        "    row=2, col=1\n",
        ")\n",
        "\n",
        "# Customize layout for GameStop dashboard\n",
        "fig_gamestop.update_layout(\n",
        "    title=\"GameStop Stock and Revenue Dashboard\",\n",
        "    xaxis_title=\"Date\",\n",
        "    yaxis_title=\"Stock Price\",\n",
        "    height=800,\n",
        ")\n",
        "\n",
        "# Update y-axis title for the second subplot\n",
        "fig_gamestop.update_yaxes(title_text=\"Revenue\", row=2, col=1)\n",
        "\n",
        "# Show GameStop dashboard\n",
        "fig_gamestop.show()\n"
      ],
      "metadata": {
        "colab": {
          "base_uri": "https://localhost:8080/",
          "height": 906
        },
        "id": "qTA5ZrhtwuMs",
        "outputId": "865d3957-1a9f-460e-dda2-b142167beb28"
      },
      "execution_count": null,
      "outputs": [
        {
          "output_type": "stream",
          "name": "stderr",
          "text": [
            "<ipython-input-28-c75eac30e157>:8: FutureWarning:\n",
            "\n",
            "Passing literal html to 'read_html' is deprecated and will be removed in a future version. To read from a literal string, wrap it in a 'StringIO' object.\n",
            "\n"
          ]
        },
        {
          "output_type": "display_data",
          "data": {
            "text/html": [
              "<html>\n",
              "<head><meta charset=\"utf-8\" /></head>\n",
              "<body>\n",
              "    <div>            <script src=\"https://cdnjs.cloudflare.com/ajax/libs/mathjax/2.7.5/MathJax.js?config=TeX-AMS-MML_SVG\"></script><script type=\"text/javascript\">if (window.MathJax && window.MathJax.Hub && window.MathJax.Hub.Config) {window.MathJax.Hub.Config({SVG: {font: \"STIX-Web\"}});}</script>                <script type=\"text/javascript\">window.PlotlyConfig = {MathJaxConfig: 'local'};</script>\n",
              "        <script charset=\"utf-8\" src=\"https://cdn.plot.ly/plotly-2.35.2.min.js\"></script>                <div id=\"9e53cd79-3c33-4a4b-8355-c344fbd0a380\" class=\"plotly-graph-div\" style=\"height:800px; width:100%;\"></div>            <script type=\"text/javascript\">                                    window.PLOTLYENV=window.PLOTLYENV || {};                                    if (document.getElementById(\"9e53cd79-3c33-4a4b-8355-c344fbd0a380\")) {                    Plotly.newPlot(                        \"9e53cd79-3c33-4a4b-8355-c344fbd0a380\",                        [{\"name\":\"GameStop Stock Price\",\"x\":[\"2023-09-28T00:00:00-04:00\",\"2023-09-29T00:00:00-04:00\",\"2023-10-02T00:00:00-04:00\",\"2023-10-03T00:00:00-04:00\",\"2023-10-04T00:00:00-04:00\",\"2023-10-05T00:00:00-04:00\",\"2023-10-06T00:00:00-04:00\",\"2023-10-09T00:00:00-04:00\",\"2023-10-10T00:00:00-04:00\",\"2023-10-11T00:00:00-04:00\",\"2023-10-12T00:00:00-04:00\",\"2023-10-13T00:00:00-04:00\",\"2023-10-16T00:00:00-04:00\",\"2023-10-17T00:00:00-04:00\",\"2023-10-18T00:00:00-04:00\",\"2023-10-19T00:00:00-04:00\",\"2023-10-20T00:00:00-04:00\",\"2023-10-23T00:00:00-04:00\",\"2023-10-24T00:00:00-04:00\",\"2023-10-25T00:00:00-04:00\",\"2023-10-26T00:00:00-04:00\",\"2023-10-27T00:00:00-04:00\",\"2023-10-30T00:00:00-04:00\",\"2023-10-31T00:00:00-04:00\",\"2023-11-01T00:00:00-04:00\",\"2023-11-02T00:00:00-04:00\",\"2023-11-03T00:00:00-04:00\",\"2023-11-06T00:00:00-05:00\",\"2023-11-07T00:00:00-05:00\",\"2023-11-08T00:00:00-05:00\",\"2023-11-09T00:00:00-05:00\",\"2023-11-10T00:00:00-05:00\",\"2023-11-13T00:00:00-05:00\",\"2023-11-14T00:00:00-05:00\",\"2023-11-15T00:00:00-05:00\",\"2023-11-16T00:00:00-05:00\",\"2023-11-17T00:00:00-05:00\",\"2023-11-20T00:00:00-05:00\",\"2023-11-21T00:00:00-05:00\",\"2023-11-22T00:00:00-05:00\",\"2023-11-24T00:00:00-05:00\",\"2023-11-27T00:00:00-05:00\",\"2023-11-28T00:00:00-05:00\",\"2023-11-29T00:00:00-05:00\",\"2023-11-30T00:00:00-05:00\",\"2023-12-01T00:00:00-05:00\",\"2023-12-04T00:00:00-05:00\",\"2023-12-05T00:00:00-05:00\",\"2023-12-06T00:00:00-05:00\",\"2023-12-07T00:00:00-05:00\",\"2023-12-08T00:00:00-05:00\",\"2023-12-11T00:00:00-05:00\",\"2023-12-12T00:00:00-05:00\",\"2023-12-13T00:00:00-05:00\",\"2023-12-14T00:00:00-05:00\",\"2023-12-15T00:00:00-05:00\",\"2023-12-18T00:00:00-05:00\",\"2023-12-19T00:00:00-05:00\",\"2023-12-20T00:00:00-05:00\",\"2023-12-21T00:00:00-05:00\",\"2023-12-22T00:00:00-05:00\",\"2023-12-26T00:00:00-05:00\",\"2023-12-27T00:00:00-05:00\",\"2023-12-28T00:00:00-05:00\",\"2023-12-29T00:00:00-05:00\",\"2024-01-02T00:00:00-05:00\",\"2024-01-03T00:00:00-05:00\",\"2024-01-04T00:00:00-05:00\",\"2024-01-05T00:00:00-05:00\",\"2024-01-08T00:00:00-05:00\",\"2024-01-09T00:00:00-05:00\",\"2024-01-10T00:00:00-05:00\",\"2024-01-11T00:00:00-05:00\",\"2024-01-12T00:00:00-05:00\",\"2024-01-16T00:00:00-05:00\",\"2024-01-17T00:00:00-05:00\",\"2024-01-18T00:00:00-05:00\",\"2024-01-19T00:00:00-05:00\",\"2024-01-22T00:00:00-05:00\",\"2024-01-23T00:00:00-05:00\",\"2024-01-24T00:00:00-05:00\",\"2024-01-25T00:00:00-05:00\",\"2024-01-26T00:00:00-05:00\",\"2024-01-29T00:00:00-05:00\",\"2024-01-30T00:00:00-05:00\",\"2024-01-31T00:00:00-05:00\",\"2024-02-01T00:00:00-05:00\",\"2024-02-02T00:00:00-05:00\",\"2024-02-05T00:00:00-05:00\",\"2024-02-06T00:00:00-05:00\",\"2024-02-07T00:00:00-05:00\",\"2024-02-08T00:00:00-05:00\",\"2024-02-09T00:00:00-05:00\",\"2024-02-12T00:00:00-05:00\",\"2024-02-13T00:00:00-05:00\",\"2024-02-14T00:00:00-05:00\",\"2024-02-15T00:00:00-05:00\",\"2024-02-16T00:00:00-05:00\",\"2024-02-20T00:00:00-05:00\",\"2024-02-21T00:00:00-05:00\",\"2024-02-22T00:00:00-05:00\",\"2024-02-23T00:00:00-05:00\",\"2024-02-26T00:00:00-05:00\",\"2024-02-27T00:00:00-05:00\",\"2024-02-28T00:00:00-05:00\",\"2024-02-29T00:00:00-05:00\",\"2024-03-01T00:00:00-05:00\",\"2024-03-04T00:00:00-05:00\",\"2024-03-05T00:00:00-05:00\",\"2024-03-06T00:00:00-05:00\",\"2024-03-07T00:00:00-05:00\",\"2024-03-08T00:00:00-05:00\",\"2024-03-11T00:00:00-04:00\",\"2024-03-12T00:00:00-04:00\",\"2024-03-13T00:00:00-04:00\",\"2024-03-14T00:00:00-04:00\",\"2024-03-15T00:00:00-04:00\",\"2024-03-18T00:00:00-04:00\",\"2024-03-19T00:00:00-04:00\",\"2024-03-20T00:00:00-04:00\",\"2024-03-21T00:00:00-04:00\",\"2024-03-22T00:00:00-04:00\",\"2024-03-25T00:00:00-04:00\",\"2024-03-26T00:00:00-04:00\",\"2024-03-27T00:00:00-04:00\",\"2024-03-28T00:00:00-04:00\",\"2024-04-01T00:00:00-04:00\",\"2024-04-02T00:00:00-04:00\",\"2024-04-03T00:00:00-04:00\",\"2024-04-04T00:00:00-04:00\",\"2024-04-05T00:00:00-04:00\",\"2024-04-08T00:00:00-04:00\",\"2024-04-09T00:00:00-04:00\",\"2024-04-10T00:00:00-04:00\",\"2024-04-11T00:00:00-04:00\",\"2024-04-12T00:00:00-04:00\",\"2024-04-15T00:00:00-04:00\",\"2024-04-16T00:00:00-04:00\",\"2024-04-17T00:00:00-04:00\",\"2024-04-18T00:00:00-04:00\",\"2024-04-19T00:00:00-04:00\",\"2024-04-22T00:00:00-04:00\",\"2024-04-23T00:00:00-04:00\",\"2024-04-24T00:00:00-04:00\",\"2024-04-25T00:00:00-04:00\",\"2024-04-26T00:00:00-04:00\",\"2024-04-29T00:00:00-04:00\",\"2024-04-30T00:00:00-04:00\",\"2024-05-01T00:00:00-04:00\",\"2024-05-02T00:00:00-04:00\",\"2024-05-03T00:00:00-04:00\",\"2024-05-06T00:00:00-04:00\",\"2024-05-07T00:00:00-04:00\",\"2024-05-08T00:00:00-04:00\",\"2024-05-09T00:00:00-04:00\",\"2024-05-10T00:00:00-04:00\",\"2024-05-13T00:00:00-04:00\",\"2024-05-14T00:00:00-04:00\",\"2024-05-15T00:00:00-04:00\",\"2024-05-16T00:00:00-04:00\",\"2024-05-17T00:00:00-04:00\",\"2024-05-20T00:00:00-04:00\",\"2024-05-21T00:00:00-04:00\",\"2024-05-22T00:00:00-04:00\",\"2024-05-23T00:00:00-04:00\",\"2024-05-24T00:00:00-04:00\",\"2024-05-28T00:00:00-04:00\",\"2024-05-29T00:00:00-04:00\",\"2024-05-30T00:00:00-04:00\",\"2024-05-31T00:00:00-04:00\",\"2024-06-03T00:00:00-04:00\",\"2024-06-04T00:00:00-04:00\",\"2024-06-05T00:00:00-04:00\",\"2024-06-06T00:00:00-04:00\",\"2024-06-07T00:00:00-04:00\",\"2024-06-10T00:00:00-04:00\",\"2024-06-11T00:00:00-04:00\",\"2024-06-12T00:00:00-04:00\",\"2024-06-13T00:00:00-04:00\",\"2024-06-14T00:00:00-04:00\",\"2024-06-17T00:00:00-04:00\",\"2024-06-18T00:00:00-04:00\",\"2024-06-20T00:00:00-04:00\",\"2024-06-21T00:00:00-04:00\",\"2024-06-24T00:00:00-04:00\",\"2024-06-25T00:00:00-04:00\",\"2024-06-26T00:00:00-04:00\",\"2024-06-27T00:00:00-04:00\",\"2024-06-28T00:00:00-04:00\",\"2024-07-01T00:00:00-04:00\",\"2024-07-02T00:00:00-04:00\",\"2024-07-03T00:00:00-04:00\",\"2024-07-05T00:00:00-04:00\",\"2024-07-08T00:00:00-04:00\",\"2024-07-09T00:00:00-04:00\",\"2024-07-10T00:00:00-04:00\",\"2024-07-11T00:00:00-04:00\",\"2024-07-12T00:00:00-04:00\",\"2024-07-15T00:00:00-04:00\",\"2024-07-16T00:00:00-04:00\",\"2024-07-17T00:00:00-04:00\",\"2024-07-18T00:00:00-04:00\",\"2024-07-19T00:00:00-04:00\",\"2024-07-22T00:00:00-04:00\",\"2024-07-23T00:00:00-04:00\",\"2024-07-24T00:00:00-04:00\",\"2024-07-25T00:00:00-04:00\",\"2024-07-26T00:00:00-04:00\",\"2024-07-29T00:00:00-04:00\",\"2024-07-30T00:00:00-04:00\",\"2024-07-31T00:00:00-04:00\",\"2024-08-01T00:00:00-04:00\",\"2024-08-02T00:00:00-04:00\",\"2024-08-05T00:00:00-04:00\",\"2024-08-06T00:00:00-04:00\",\"2024-08-07T00:00:00-04:00\",\"2024-08-08T00:00:00-04:00\",\"2024-08-09T00:00:00-04:00\",\"2024-08-12T00:00:00-04:00\",\"2024-08-13T00:00:00-04:00\",\"2024-08-14T00:00:00-04:00\",\"2024-08-15T00:00:00-04:00\",\"2024-08-16T00:00:00-04:00\",\"2024-08-19T00:00:00-04:00\",\"2024-08-20T00:00:00-04:00\",\"2024-08-21T00:00:00-04:00\",\"2024-08-22T00:00:00-04:00\",\"2024-08-23T00:00:00-04:00\",\"2024-08-26T00:00:00-04:00\",\"2024-08-27T00:00:00-04:00\",\"2024-08-28T00:00:00-04:00\",\"2024-08-29T00:00:00-04:00\",\"2024-08-30T00:00:00-04:00\",\"2024-09-03T00:00:00-04:00\",\"2024-09-04T00:00:00-04:00\",\"2024-09-05T00:00:00-04:00\",\"2024-09-06T00:00:00-04:00\",\"2024-09-09T00:00:00-04:00\",\"2024-09-10T00:00:00-04:00\",\"2024-09-11T00:00:00-04:00\",\"2024-09-12T00:00:00-04:00\",\"2024-09-13T00:00:00-04:00\",\"2024-09-16T00:00:00-04:00\",\"2024-09-17T00:00:00-04:00\",\"2024-09-18T00:00:00-04:00\",\"2024-09-19T00:00:00-04:00\",\"2024-09-20T00:00:00-04:00\",\"2024-09-23T00:00:00-04:00\",\"2024-09-24T00:00:00-04:00\",\"2024-09-25T00:00:00-04:00\",\"2024-09-26T00:00:00-04:00\",\"2024-09-27T00:00:00-04:00\"],\"y\":[16.84000015258789,16.459999084472656,15.390000343322754,14.600000381469727,14.869999885559082,14.710000038146973,15.079999923706055,15.399999618530273,16.0,15.819999694824219,15.09000015258789,14.920000076293945,14.430000305175781,14.119999885559082,13.850000381469727,13.15999984741211,13.4399995803833,13.4399995803833,14.039999961853027,13.710000038146973,13.5,13.119999885559082,12.800000190734863,13.770000457763672,13.010000228881836,13.640000343322754,13.869999885559082,13.529999732971191,13.640000343322754,13.279999732971191,12.699999809265137,12.539999961853027,12.140000343322754,12.899999618530273,13.270000457763672,12.529999732971191,13.029999732971191,12.800000190734863,12.550000190734863,12.289999961853027,12.199999809265137,11.90999984741211,13.489999771118164,16.25,14.550000190734863,15.300000190734863,16.979999542236328,14.90999984741211,14.84000015258789,16.360000610351562,15.550000190734863,15.069999694824219,15.220000267028809,16.690000534057617,17.440000534057617,17.260000228881836,17.860000610351562,17.719999313354492,16.93000030517578,16.979999542236328,16.969999313354492,17.360000610351562,18.3700008392334,18.06999969482422,17.530000686645508,16.670000076293945,16.690000534057617,16.360000610351562,15.960000038146973,15.789999961853027,15.15999984741211,15.729999542236328,15.25,14.75,13.979999542236328,14.079999923706055,14.289999961853027,14.510000228881836,14.899999618530273,14.180000305175781,13.949999809265137,14.520000457763672,14.489999771118164,14.779999732971191,14.550000190734863,14.229999542236328,14.420000076293945,14.729999542236328,13.460000038146973,14.100000381469727,14.069999694824219,14.350000381469727,14.65999984741211,14.729999542236328,14.170000076293945,14.40999984741211,14.510000228881836,14.119999885559082,13.489999771118164,13.40999984741211,13.359999656677246,13.510000228881836,13.680000305175781,14.210000038146973,14.239999771118164,14.270000457763672,14.949999809265137,15.220000267028809,15.0,15.260000228881836,15.260000228881836,14.649999618530273,14.430000305175781,14.720000267028809,14.869999885559082,14.630000114440918,14.239999771118164,13.90999984741211,13.40999984741211,13.479999542236328,13.65999984741211,13.100000381469727,15.119999885559082,15.5,13.170000076293945,12.520000457763672,11.989999771118164,11.279999732971191,11.380000114440918,11.529999732971191,11.25,10.829999923706055,11.010000228881836,10.850000381469727,11.289999961853027,10.770000457763672,10.0600004196167,10.369999885559082,10.300000190734863,10.3100004196167,10.420000076293945,10.010000228881836,10.15999984741211,10.930000305175781,11.210000038146973,11.899999618530273,11.289999961853027,11.09000015258789,10.90999984741211,12.760000228881836,16.469999313354492,16.309999465942383,16.309999465942383,15.920000076293945,18.010000228881836,17.459999084472656,30.450000762939453,48.75,39.54999923706055,27.670000076293945,22.209999084472656,23.139999389648438,22.1200008392334,21.1200008392334,18.31999969482422,19.0,23.780000686645508,21.239999771118164,22.610000610351562,23.139999389648438,28.0,26.5,31.56999969482422,46.54999923706055,28.219999313354492,24.829999923706055,30.489999771118164,25.459999084472656,29.1200008392334,28.700000762939453,25.219999313354492,24.700000762939453,25.59000015258789,23.93000030517578,23.649999618530273,24.93000030517578,24.200000762939453,25.09000015258789,24.690000534057617,23.329999923706055,23.979999542236328,24.3700008392334,24.18000030517578,24.450000762939453,24.600000381469727,24.969999313354492,25.56999969482422,26.049999237060547,27.0,28.540000915527344,27.979999542236328,25.8799991607666,24.969999313354492,25.219999313354492,25.5,24.010000228881836,23.950000762939453,24.1299991607666,23.600000381469727,22.399999618530273,22.670000076293945,21.709999084472656,21.06999969482422,20.649999618530273,21.280000686645508,20.829999923706055,21.75,21.93000030517578,21.8799991607666,22.270000457763672,21.989999771118164,22.530000686645508,22.399999618530273,22.65999984741211,22.280000686645508,22.549999237060547,22.1200008392334,22.209999084472656,21.360000610351562,20.739999771118164,19.899999618530273,21.510000228881836,23.420000076293945,23.139999389648438,22.1200008392334,22.389999389648438,23.920000076293945,24.25,23.450000762939453,20.639999389648438,20.399999618530273,20.649999618530273,20.09000015258789,20.15999984741211,19.649999618530273,19.510000228881836,21.850000381469727,22.309999465942383,22.6299991607666,22.18000030517578,22.290000915527344,22.479999542236328],\"type\":\"scatter\",\"xaxis\":\"x\",\"yaxis\":\"y\"},{\"name\":\"GameStop Revenue\",\"x\":[\"2024-07-31\",\"2024-04-30\",\"2024-01-31\",\"2023-10-31\",\"2023-07-31\",\"2023-04-30\",\"2023-01-31\",\"2022-10-31\",\"2022-07-31\",\"2022-04-30\",\"2022-01-31\",\"2021-10-31\",\"2021-07-31\",\"2021-04-30\",\"2021-01-31\",\"2020-10-31\",\"2020-07-31\",\"2020-04-30\",\"2020-01-31\",\"2019-10-31\",\"2019-07-31\",\"2019-04-30\",\"2019-01-31\",\"2018-10-31\",\"2018-07-31\",\"2018-04-30\",\"2018-01-31\",\"2017-10-31\",\"2017-07-31\",\"2017-04-30\",\"2017-01-31\",\"2016-10-31\",\"2016-07-31\",\"2016-04-30\",\"2016-01-31\",\"2015-10-31\",\"2015-07-31\",\"2015-04-30\",\"2015-01-31\",\"2014-10-31\",\"2014-07-31\",\"2014-04-30\",\"2014-01-31\",\"2013-10-31\",\"2013-07-31\",\"2013-04-30\",\"2013-01-31\",\"2012-10-31\",\"2012-07-31\",\"2012-04-30\",\"2012-01-31\",\"2011-10-31\",\"2011-07-31\",\"2011-04-30\",\"2011-01-31\",\"2010-10-31\",\"2010-07-31\",\"2010-04-30\",\"2010-01-31\",\"2009-10-31\",\"2009-07-31\",\"2009-04-30\",\"2009-01-31\"],\"y\":[\"$798\",\"$882\",\"$1,794\",\"$1,078\",\"$1,164\",\"$1,237\",\"$2,226\",\"$1,186\",\"$1,136\",\"$1,378\",\"$2,254\",\"$1,297\",\"$1,183\",\"$1,277\",\"$2,122\",\"$1,005\",\"$942\",\"$1,021\",\"$2,194\",\"$1,439\",\"$1,286\",\"$1,548\",\"$3,063\",\"$1,935\",\"$1,501\",\"$1,786\",\"$2,825\",\"$1,989\",\"$1,688\",\"$2,046\",\"$2,403\",\"$1,959\",\"$1,632\",\"$1,972\",\"$3,525\",\"$2,016\",\"$1,762\",\"$2,061\",\"$3,476\",\"$2,092\",\"$1,731\",\"$1,996\",\"$3,684\",\"$2,107\",\"$1,384\",\"$1,865\",\"$3,562\",\"$1,773\",\"$1,550\",\"$2,002\",\"$3,579\",\"$1,947\",\"$1,744\",\"$2,281\",\"$3,693\",\"$1,899\",\"$1,799\",\"$2,083\",\"$3,524\",\"$1,835\",\"$1,739\",\"$1,981\",\"$3,492\"],\"type\":\"scatter\",\"xaxis\":\"x2\",\"yaxis\":\"y2\"}],                        {\"template\":{\"data\":{\"histogram2dcontour\":[{\"type\":\"histogram2dcontour\",\"colorbar\":{\"outlinewidth\":0,\"ticks\":\"\"},\"colorscale\":[[0.0,\"#0d0887\"],[0.1111111111111111,\"#46039f\"],[0.2222222222222222,\"#7201a8\"],[0.3333333333333333,\"#9c179e\"],[0.4444444444444444,\"#bd3786\"],[0.5555555555555556,\"#d8576b\"],[0.6666666666666666,\"#ed7953\"],[0.7777777777777778,\"#fb9f3a\"],[0.8888888888888888,\"#fdca26\"],[1.0,\"#f0f921\"]]}],\"choropleth\":[{\"type\":\"choropleth\",\"colorbar\":{\"outlinewidth\":0,\"ticks\":\"\"}}],\"histogram2d\":[{\"type\":\"histogram2d\",\"colorbar\":{\"outlinewidth\":0,\"ticks\":\"\"},\"colorscale\":[[0.0,\"#0d0887\"],[0.1111111111111111,\"#46039f\"],[0.2222222222222222,\"#7201a8\"],[0.3333333333333333,\"#9c179e\"],[0.4444444444444444,\"#bd3786\"],[0.5555555555555556,\"#d8576b\"],[0.6666666666666666,\"#ed7953\"],[0.7777777777777778,\"#fb9f3a\"],[0.8888888888888888,\"#fdca26\"],[1.0,\"#f0f921\"]]}],\"heatmap\":[{\"type\":\"heatmap\",\"colorbar\":{\"outlinewidth\":0,\"ticks\":\"\"},\"colorscale\":[[0.0,\"#0d0887\"],[0.1111111111111111,\"#46039f\"],[0.2222222222222222,\"#7201a8\"],[0.3333333333333333,\"#9c179e\"],[0.4444444444444444,\"#bd3786\"],[0.5555555555555556,\"#d8576b\"],[0.6666666666666666,\"#ed7953\"],[0.7777777777777778,\"#fb9f3a\"],[0.8888888888888888,\"#fdca26\"],[1.0,\"#f0f921\"]]}],\"heatmapgl\":[{\"type\":\"heatmapgl\",\"colorbar\":{\"outlinewidth\":0,\"ticks\":\"\"},\"colorscale\":[[0.0,\"#0d0887\"],[0.1111111111111111,\"#46039f\"],[0.2222222222222222,\"#7201a8\"],[0.3333333333333333,\"#9c179e\"],[0.4444444444444444,\"#bd3786\"],[0.5555555555555556,\"#d8576b\"],[0.6666666666666666,\"#ed7953\"],[0.7777777777777778,\"#fb9f3a\"],[0.8888888888888888,\"#fdca26\"],[1.0,\"#f0f921\"]]}],\"contourcarpet\":[{\"type\":\"contourcarpet\",\"colorbar\":{\"outlinewidth\":0,\"ticks\":\"\"}}],\"contour\":[{\"type\":\"contour\",\"colorbar\":{\"outlinewidth\":0,\"ticks\":\"\"},\"colorscale\":[[0.0,\"#0d0887\"],[0.1111111111111111,\"#46039f\"],[0.2222222222222222,\"#7201a8\"],[0.3333333333333333,\"#9c179e\"],[0.4444444444444444,\"#bd3786\"],[0.5555555555555556,\"#d8576b\"],[0.6666666666666666,\"#ed7953\"],[0.7777777777777778,\"#fb9f3a\"],[0.8888888888888888,\"#fdca26\"],[1.0,\"#f0f921\"]]}],\"surface\":[{\"type\":\"surface\",\"colorbar\":{\"outlinewidth\":0,\"ticks\":\"\"},\"colorscale\":[[0.0,\"#0d0887\"],[0.1111111111111111,\"#46039f\"],[0.2222222222222222,\"#7201a8\"],[0.3333333333333333,\"#9c179e\"],[0.4444444444444444,\"#bd3786\"],[0.5555555555555556,\"#d8576b\"],[0.6666666666666666,\"#ed7953\"],[0.7777777777777778,\"#fb9f3a\"],[0.8888888888888888,\"#fdca26\"],[1.0,\"#f0f921\"]]}],\"mesh3d\":[{\"type\":\"mesh3d\",\"colorbar\":{\"outlinewidth\":0,\"ticks\":\"\"}}],\"scatter\":[{\"fillpattern\":{\"fillmode\":\"overlay\",\"size\":10,\"solidity\":0.2},\"type\":\"scatter\"}],\"parcoords\":[{\"type\":\"parcoords\",\"line\":{\"colorbar\":{\"outlinewidth\":0,\"ticks\":\"\"}}}],\"scatterpolargl\":[{\"type\":\"scatterpolargl\",\"marker\":{\"colorbar\":{\"outlinewidth\":0,\"ticks\":\"\"}}}],\"bar\":[{\"error_x\":{\"color\":\"#2a3f5f\"},\"error_y\":{\"color\":\"#2a3f5f\"},\"marker\":{\"line\":{\"color\":\"#E5ECF6\",\"width\":0.5},\"pattern\":{\"fillmode\":\"overlay\",\"size\":10,\"solidity\":0.2}},\"type\":\"bar\"}],\"scattergeo\":[{\"type\":\"scattergeo\",\"marker\":{\"colorbar\":{\"outlinewidth\":0,\"ticks\":\"\"}}}],\"scatterpolar\":[{\"type\":\"scatterpolar\",\"marker\":{\"colorbar\":{\"outlinewidth\":0,\"ticks\":\"\"}}}],\"histogram\":[{\"marker\":{\"pattern\":{\"fillmode\":\"overlay\",\"size\":10,\"solidity\":0.2}},\"type\":\"histogram\"}],\"scattergl\":[{\"type\":\"scattergl\",\"marker\":{\"colorbar\":{\"outlinewidth\":0,\"ticks\":\"\"}}}],\"scatter3d\":[{\"type\":\"scatter3d\",\"line\":{\"colorbar\":{\"outlinewidth\":0,\"ticks\":\"\"}},\"marker\":{\"colorbar\":{\"outlinewidth\":0,\"ticks\":\"\"}}}],\"scattermapbox\":[{\"type\":\"scattermapbox\",\"marker\":{\"colorbar\":{\"outlinewidth\":0,\"ticks\":\"\"}}}],\"scatterternary\":[{\"type\":\"scatterternary\",\"marker\":{\"colorbar\":{\"outlinewidth\":0,\"ticks\":\"\"}}}],\"scattercarpet\":[{\"type\":\"scattercarpet\",\"marker\":{\"colorbar\":{\"outlinewidth\":0,\"ticks\":\"\"}}}],\"carpet\":[{\"aaxis\":{\"endlinecolor\":\"#2a3f5f\",\"gridcolor\":\"white\",\"linecolor\":\"white\",\"minorgridcolor\":\"white\",\"startlinecolor\":\"#2a3f5f\"},\"baxis\":{\"endlinecolor\":\"#2a3f5f\",\"gridcolor\":\"white\",\"linecolor\":\"white\",\"minorgridcolor\":\"white\",\"startlinecolor\":\"#2a3f5f\"},\"type\":\"carpet\"}],\"table\":[{\"cells\":{\"fill\":{\"color\":\"#EBF0F8\"},\"line\":{\"color\":\"white\"}},\"header\":{\"fill\":{\"color\":\"#C8D4E3\"},\"line\":{\"color\":\"white\"}},\"type\":\"table\"}],\"barpolar\":[{\"marker\":{\"line\":{\"color\":\"#E5ECF6\",\"width\":0.5},\"pattern\":{\"fillmode\":\"overlay\",\"size\":10,\"solidity\":0.2}},\"type\":\"barpolar\"}],\"pie\":[{\"automargin\":true,\"type\":\"pie\"}]},\"layout\":{\"autotypenumbers\":\"strict\",\"colorway\":[\"#636efa\",\"#EF553B\",\"#00cc96\",\"#ab63fa\",\"#FFA15A\",\"#19d3f3\",\"#FF6692\",\"#B6E880\",\"#FF97FF\",\"#FECB52\"],\"font\":{\"color\":\"#2a3f5f\"},\"hovermode\":\"closest\",\"hoverlabel\":{\"align\":\"left\"},\"paper_bgcolor\":\"white\",\"plot_bgcolor\":\"#E5ECF6\",\"polar\":{\"bgcolor\":\"#E5ECF6\",\"angularaxis\":{\"gridcolor\":\"white\",\"linecolor\":\"white\",\"ticks\":\"\"},\"radialaxis\":{\"gridcolor\":\"white\",\"linecolor\":\"white\",\"ticks\":\"\"}},\"ternary\":{\"bgcolor\":\"#E5ECF6\",\"aaxis\":{\"gridcolor\":\"white\",\"linecolor\":\"white\",\"ticks\":\"\"},\"baxis\":{\"gridcolor\":\"white\",\"linecolor\":\"white\",\"ticks\":\"\"},\"caxis\":{\"gridcolor\":\"white\",\"linecolor\":\"white\",\"ticks\":\"\"}},\"coloraxis\":{\"colorbar\":{\"outlinewidth\":0,\"ticks\":\"\"}},\"colorscale\":{\"sequential\":[[0.0,\"#0d0887\"],[0.1111111111111111,\"#46039f\"],[0.2222222222222222,\"#7201a8\"],[0.3333333333333333,\"#9c179e\"],[0.4444444444444444,\"#bd3786\"],[0.5555555555555556,\"#d8576b\"],[0.6666666666666666,\"#ed7953\"],[0.7777777777777778,\"#fb9f3a\"],[0.8888888888888888,\"#fdca26\"],[1.0,\"#f0f921\"]],\"sequentialminus\":[[0.0,\"#0d0887\"],[0.1111111111111111,\"#46039f\"],[0.2222222222222222,\"#7201a8\"],[0.3333333333333333,\"#9c179e\"],[0.4444444444444444,\"#bd3786\"],[0.5555555555555556,\"#d8576b\"],[0.6666666666666666,\"#ed7953\"],[0.7777777777777778,\"#fb9f3a\"],[0.8888888888888888,\"#fdca26\"],[1.0,\"#f0f921\"]],\"diverging\":[[0,\"#8e0152\"],[0.1,\"#c51b7d\"],[0.2,\"#de77ae\"],[0.3,\"#f1b6da\"],[0.4,\"#fde0ef\"],[0.5,\"#f7f7f7\"],[0.6,\"#e6f5d0\"],[0.7,\"#b8e186\"],[0.8,\"#7fbc41\"],[0.9,\"#4d9221\"],[1,\"#276419\"]]},\"xaxis\":{\"gridcolor\":\"white\",\"linecolor\":\"white\",\"ticks\":\"\",\"title\":{\"standoff\":15},\"zerolinecolor\":\"white\",\"automargin\":true,\"zerolinewidth\":2},\"yaxis\":{\"gridcolor\":\"white\",\"linecolor\":\"white\",\"ticks\":\"\",\"title\":{\"standoff\":15},\"zerolinecolor\":\"white\",\"automargin\":true,\"zerolinewidth\":2},\"scene\":{\"xaxis\":{\"backgroundcolor\":\"#E5ECF6\",\"gridcolor\":\"white\",\"linecolor\":\"white\",\"showbackground\":true,\"ticks\":\"\",\"zerolinecolor\":\"white\",\"gridwidth\":2},\"yaxis\":{\"backgroundcolor\":\"#E5ECF6\",\"gridcolor\":\"white\",\"linecolor\":\"white\",\"showbackground\":true,\"ticks\":\"\",\"zerolinecolor\":\"white\",\"gridwidth\":2},\"zaxis\":{\"backgroundcolor\":\"#E5ECF6\",\"gridcolor\":\"white\",\"linecolor\":\"white\",\"showbackground\":true,\"ticks\":\"\",\"zerolinecolor\":\"white\",\"gridwidth\":2}},\"shapedefaults\":{\"line\":{\"color\":\"#2a3f5f\"}},\"annotationdefaults\":{\"arrowcolor\":\"#2a3f5f\",\"arrowhead\":0,\"arrowwidth\":1},\"geo\":{\"bgcolor\":\"white\",\"landcolor\":\"#E5ECF6\",\"subunitcolor\":\"white\",\"showland\":true,\"showlakes\":true,\"lakecolor\":\"white\"},\"title\":{\"x\":0.05},\"mapbox\":{\"style\":\"light\"}}},\"xaxis\":{\"anchor\":\"y\",\"domain\":[0.0,1.0],\"matches\":\"x2\",\"showticklabels\":false,\"title\":{\"text\":\"Date\"}},\"yaxis\":{\"anchor\":\"x\",\"domain\":[0.55,1.0],\"title\":{\"text\":\"Stock Price\"}},\"xaxis2\":{\"anchor\":\"y2\",\"domain\":[0.0,1.0]},\"yaxis2\":{\"anchor\":\"x2\",\"domain\":[0.0,0.45],\"title\":{\"text\":\"Revenue\"}},\"annotations\":[{\"font\":{\"size\":16},\"showarrow\":false,\"text\":\"GameStop Stock Price\",\"x\":0.5,\"xanchor\":\"center\",\"xref\":\"paper\",\"y\":1.0,\"yanchor\":\"bottom\",\"yref\":\"paper\"},{\"font\":{\"size\":16},\"showarrow\":false,\"text\":\"GameStop Revenue\",\"x\":0.5,\"xanchor\":\"center\",\"xref\":\"paper\",\"y\":0.45,\"yanchor\":\"bottom\",\"yref\":\"paper\"}],\"title\":{\"text\":\"GameStop Stock and Revenue Dashboard\"},\"height\":800},                        {\"responsive\": true}                    ).then(function(){\n",
              "                            \n",
              "var gd = document.getElementById('9e53cd79-3c33-4a4b-8355-c344fbd0a380');\n",
              "var x = new MutationObserver(function (mutations, observer) {{\n",
              "        var display = window.getComputedStyle(gd).display;\n",
              "        if (!display || display === 'none') {{\n",
              "            console.log([gd, 'removed!']);\n",
              "            Plotly.purge(gd);\n",
              "            observer.disconnect();\n",
              "        }}\n",
              "}});\n",
              "\n",
              "// Listen for the removal of the full notebook cells\n",
              "var notebookContainer = gd.closest('#notebook-container');\n",
              "if (notebookContainer) {{\n",
              "    x.observe(notebookContainer, {childList: true});\n",
              "}}\n",
              "\n",
              "// Listen for the clearing of the current output cell\n",
              "var outputEl = gd.closest('.output');\n",
              "if (outputEl) {{\n",
              "    x.observe(outputEl, {childList: true});\n",
              "}}\n",
              "\n",
              "                        })                };                            </script>        </div>\n",
              "</body>\n",
              "</html>"
            ]
          },
          "metadata": {}
        }
      ]
    }
  ]
}